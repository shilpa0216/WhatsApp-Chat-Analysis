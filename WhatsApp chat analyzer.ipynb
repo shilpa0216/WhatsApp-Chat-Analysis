{
 "cells": [
  {
   "cell_type": "code",
   "execution_count": 1,
   "id": "a7c1a953",
   "metadata": {},
   "outputs": [],
   "source": [
    "import re\n",
    "import pandas as pd "
   ]
  },
  {
   "cell_type": "code",
   "execution_count": 56,
   "id": "f0860494",
   "metadata": {},
   "outputs": [],
   "source": [
    "f = open('whatsapp chat with shivani yadav.txt','r',encoding='utf-8')"
   ]
  },
  {
   "cell_type": "code",
   "execution_count": 3,
   "id": "1088881a",
   "metadata": {},
   "outputs": [],
   "source": [
    "data = f.read()"
   ]
  },
  {
   "cell_type": "code",
   "execution_count": 57,
   "id": "2359cca2",
   "metadata": {},
   "outputs": [],
   "source": [
    "print (data)"
   ]
  },
  {
   "cell_type": "code",
   "execution_count": 5,
   "id": "25189434",
   "metadata": {},
   "outputs": [],
   "source": [
    "pattern = '\\d{1,2}/\\d{1,2}/\\d{2,4},\\s\\d{1,2}:\\d{2}\\s-\\s'"
   ]
  },
  {
   "cell_type": "code",
   "execution_count": 6,
   "id": "59f8dd8f",
   "metadata": {},
   "outputs": [],
   "source": [
    "messages = re.split(pattern, data)[1:]\n",
    "messages"
   ]
  },
  {
   "cell_type": "code",
   "execution_count": 7,
   "id": "fdef3547",
   "metadata": {},
   "outputs": [],
   "source": [
    "dates = re.findall(pattern, data)\n",
    "dates"
   ]
  },
  {
   "cell_type": "code",
   "execution_count": 8,
   "id": "e23f881d",
   "metadata": {},
   "outputs": [],
   "source": [
    "df = pd.DataFrame({'user_message':messages, 'message_date': dates})\n",
    "# Convert message_date type\n",
    "df['message_date'] = pd.to_datetime(df['message_date'], format='%d/%m/%y, %H:%M - ')\n",
    "\n",
    "df.rename(columns={'message_date': 'date'}, inplace=True)\n",
    "\n",
    "df.head()\n"
   ]
  },
  {
   "cell_type": "code",
   "execution_count": 9,
   "id": "dde61a04",
   "metadata": {},
   "outputs": [],
   "source": [
    "df.shape"
   ]
  },
  {
   "cell_type": "code",
   "execution_count": 10,
   "id": "19f12d16",
   "metadata": {},
   "outputs": [],
   "source": [
    "#separate user and message\n",
    "users = []\n",
    "messages = []\n",
    "for message in df['user_message']:\n",
    "    entry = re.split('([\\w\\W]+?):\\s', message)\n",
    "    if entry [1:]: #user name\n",
    "        users.append(entry[1])\n",
    "        messages.append(entry[2])\n",
    "    else:\n",
    "        users.append('group_notification')\n",
    "        messages.append(entry[0])\n",
    "    \n",
    "df['user'] = users\n",
    "df['message'] = messages\n",
    "df.drop(columns=['user_message'], inplace=True)\n",
    "\n",
    "df.head()\n",
    "    "
   ]
  },
  {
   "cell_type": "code",
   "execution_count": 11,
   "id": "60b409fd",
   "metadata": {},
   "outputs": [],
   "source": [
    "df['year'] = df['date'].dt.year"
   ]
  },
  {
   "cell_type": "code",
   "execution_count": 12,
   "id": "8ffe2eb8",
   "metadata": {},
   "outputs": [],
   "source": [
    "df['month'] = df['date'].dt.month_name()"
   ]
  },
  {
   "cell_type": "code",
   "execution_count": 13,
   "id": "535ff284",
   "metadata": {},
   "outputs": [],
   "source": [
    "df['day'] = df['date'].dt.day"
   ]
  },
  {
   "cell_type": "code",
   "execution_count": 14,
   "id": "65323ff6",
   "metadata": {},
   "outputs": [],
   "source": [
    "df['hour'] = df['date'].dt.hour"
   ]
  },
  {
   "cell_type": "code",
   "execution_count": 15,
   "id": "90dccb5f",
   "metadata": {},
   "outputs": [],
   "source": [
    "df['minute'] = df['date'].dt.minute"
   ]
  },
  {
   "cell_type": "code",
   "execution_count": 16,
   "id": "dbc19aa8",
   "metadata": {},
   "outputs": [],
   "source": [
    "df.head()"
   ]
  },
  {
   "cell_type": "code",
   "execution_count": 17,
   "id": "8791cb7a",
   "metadata": {},
   "outputs": [],
   "source": [
    "df[df['user'] == 'Shivani Yadav'].shape\n"
   ]
  },
  {
   "cell_type": "code",
   "execution_count": 18,
   "id": "563defb9",
   "metadata": {},
   "outputs": [],
   "source": [
    "words = []\n",
    "for message in df['message']:\n",
    "    words.extend(message.split())"
   ]
  },
  {
   "cell_type": "code",
   "execution_count": 19,
   "id": "24f2ea3e",
   "metadata": {},
   "outputs": [],
   "source": [
    "len (words)"
   ]
  },
  {
   "cell_type": "code",
   "execution_count": 20,
   "id": "0bcc904c",
   "metadata": {},
   "outputs": [],
   "source": [
    "from urlextract import URLExtract\n",
    "\n",
    "extractor = URLExtract()\n",
    "urls = extractor.find_urls(\"let's www.gamil.com have URL stackoverflow.com as an example google.com, http://facebook.com, ftp://url.in .\")\n",
    "urls"
   ]
  },
  {
   "cell_type": "code",
   "execution_count": 21,
   "id": "07bfb0db",
   "metadata": {},
   "outputs": [],
   "source": [
    "links = []\n",
    "for message in df ['message']:\n",
    "    links.extend(extractor.find_urls(message))"
   ]
  },
  {
   "cell_type": "code",
   "execution_count": 22,
   "id": "09945009",
   "metadata": {},
   "outputs": [],
   "source": [
    "len(links)"
   ]
  },
  {
   "cell_type": "code",
   "execution_count": 23,
   "id": "e7e14036",
   "metadata": {},
   "outputs": [],
   "source": [
    "df"
   ]
  },
  {
   "cell_type": "code",
   "execution_count": 24,
   "id": "f3ad552b",
   "metadata": {},
   "outputs": [],
   "source": [
    "x = df['user'].value_counts().head()"
   ]
  },
  {
   "cell_type": "code",
   "execution_count": 25,
   "id": "c97ad562",
   "metadata": {},
   "outputs": [],
   "source": [
    "import matplotlib.pyplot as plt"
   ]
  },
  {
   "cell_type": "code",
   "execution_count": 26,
   "id": "3ccd3ab9",
   "metadata": {},
   "outputs": [],
   "source": [
    "name = x.index\n",
    "count = x.values"
   ]
  },
  {
   "cell_type": "code",
   "execution_count": 27,
   "id": "2ff020e6",
   "metadata": {},
   "outputs": [],
   "source": [
    "plt.bar(name,count)\n",
    "plt.xticks(rotation='vertical')\n",
    "plt.show()"
   ]
  },
  {
   "cell_type": "code",
   "execution_count": 28,
   "id": "22131496",
   "metadata": {},
   "outputs": [],
   "source": [
    "round((df['user'].value_counts()/df.shape[0])*100,2).reset_index().rename(columns={'index':'name','user':'percent'})"
   ]
  },
  {
   "cell_type": "code",
   "execution_count": 29,
   "id": "b83c5a0b",
   "metadata": {},
   "outputs": [],
   "source": [
    "temp = df[df['user'] != 'group_notification']\n",
    "temp = temp[temp['message'] != '<Media omitted>\\n']"
   ]
  },
  {
   "cell_type": "code",
   "execution_count": 30,
   "id": "f8251fe7",
   "metadata": {},
   "outputs": [],
   "source": [
    "f = open('stop_hinglish (2).txt','r')\n",
    "stop_words = f.read()\n",
    "print(stop_words)"
   ]
  },
  {
   "cell_type": "code",
   "execution_count": 31,
   "id": "0bc44731",
   "metadata": {},
   "outputs": [],
   "source": [
    "words = []\n",
    "\n",
    "for message in temp['message']:\n",
    "    for word in message.lower().split(): \n",
    "        if word not in stop_words:\n",
    "            words.append(word)"
   ]
  },
  {
   "cell_type": "code",
   "execution_count": 32,
   "id": "c71b240b",
   "metadata": {},
   "outputs": [],
   "source": [
    "from collections import Counter\n",
    "pd.DataFrame(Counter(words).most_common(20))"
   ]
  },
  {
   "cell_type": "code",
   "execution_count": 33,
   "id": "7732ec68",
   "metadata": {},
   "outputs": [],
   "source": [
    "import emoji "
   ]
  },
  {
   "cell_type": "code",
   "execution_count": 34,
   "id": "af823a7d",
   "metadata": {},
   "outputs": [],
   "source": [
    "emojis = []\n",
    "for message in df ['message']:\n",
    "    emojis.extend([c for c in message if c in emoji.EMOJI_DATA])"
   ]
  },
  {
   "cell_type": "code",
   "execution_count": 35,
   "id": "4482319d",
   "metadata": {
    "scrolled": true
   },
   "outputs": [],
   "source": [
    "pd.DataFrame(Counter(emojis).most_common(len(Counter(emojis))))"
   ]
  },
  {
   "cell_type": "code",
   "execution_count": 36,
   "id": "2f7e0c52",
   "metadata": {},
   "outputs": [],
   "source": [
    "df['month_num'] = df['date'].dt.month"
   ]
  },
  {
   "cell_type": "code",
   "execution_count": 37,
   "id": "065d9c4d",
   "metadata": {},
   "outputs": [],
   "source": [
    "timeline = df.groupby(['year','month_num','month']).count()['message'].reset_index()"
   ]
  },
  {
   "cell_type": "code",
   "execution_count": 38,
   "id": "f7443cde",
   "metadata": {},
   "outputs": [],
   "source": [
    "timeline"
   ]
  },
  {
   "cell_type": "code",
   "execution_count": 39,
   "id": "21718413",
   "metadata": {
    "scrolled": true
   },
   "outputs": [],
   "source": [
    "time = []\n",
    "for i in range(timeline.shape[0]):\n",
    "     time.append(timeline['month'][i] + \"-\" + str(timeline['year'][i]))"
   ]
  },
  {
   "cell_type": "code",
   "execution_count": 40,
   "id": "266d4e65",
   "metadata": {},
   "outputs": [],
   "source": [
    "timeline['time'] = time"
   ]
  },
  {
   "cell_type": "code",
   "execution_count": 41,
   "id": "1f8eba10",
   "metadata": {},
   "outputs": [],
   "source": [
    "timeline"
   ]
  },
  {
   "cell_type": "code",
   "execution_count": 42,
   "id": "69578051",
   "metadata": {},
   "outputs": [],
   "source": [
    "plt.plot(timeline['time'],timeline['message'])\n",
    "plt.xticks(rotation='vertical')\n",
    "plt.show()"
   ]
  },
  {
   "cell_type": "code",
   "execution_count": 43,
   "id": "9c734937",
   "metadata": {},
   "outputs": [],
   "source": [
    "df['only_date'] = df['date'].dt.date"
   ]
  },
  {
   "cell_type": "code",
   "execution_count": 44,
   "id": "b537428e",
   "metadata": {},
   "outputs": [],
   "source": [
    "daily_timeline = df.groupby('only_date').count()['message'].reset_index()"
   ]
  },
  {
   "cell_type": "code",
   "execution_count": 45,
   "id": "755e5026",
   "metadata": {},
   "outputs": [],
   "source": [
    "plt.figure(figsize=(18,10))\n",
    "plt.plot(daily_timeline['only_date'],daily_timeline['message'])"
   ]
  },
  {
   "cell_type": "code",
   "execution_count": 46,
   "id": "c8feedd5",
   "metadata": {},
   "outputs": [],
   "source": [
    "df.head()"
   ]
  },
  {
   "cell_type": "code",
   "execution_count": 47,
   "id": "26468d62",
   "metadata": {},
   "outputs": [],
   "source": [
    "df['date'].dt.day_name()"
   ]
  },
  {
   "cell_type": "code",
   "execution_count": 48,
   "id": "36230b0a",
   "metadata": {},
   "outputs": [],
   "source": [
    "df['day_name'] = df['date'].dt.day_name"
   ]
  },
  {
   "cell_type": "code",
   "execution_count": 49,
   "id": "9b2e0cd0",
   "metadata": {},
   "outputs": [],
   "source": [
    "df['day_name'].value_counts()"
   ]
  },
  {
   "cell_type": "code",
   "execution_count": 50,
   "id": "a25b934b",
   "metadata": {},
   "outputs": [],
   "source": [
    "df['month'].value_counts()"
   ]
  },
  {
   "cell_type": "code",
   "execution_count": 51,
   "id": "0dc4a387",
   "metadata": {},
   "outputs": [],
   "source": [
    "period = []\n",
    "for hour in df[['day_name','hour']]['hour']:\n",
    "    if hour == 23:\n",
    "        period.append(str(hour) + \"-\" + str('00'))\n",
    "    elif hour == 0:\n",
    "        period.append(str('00') + \"-\" + str(hour+1))\n",
    "    else:\n",
    "        period.append(str(hour) + \"-\" + str(hour+1))\n",
    "    \n",
    "        \n"
   ]
  },
  {
   "cell_type": "code",
   "execution_count": 52,
   "id": "2f8e196f",
   "metadata": {},
   "outputs": [],
   "source": [
    "df['period'] = period"
   ]
  },
  {
   "cell_type": "code",
   "execution_count": 53,
   "id": "08869f9a",
   "metadata": {},
   "outputs": [],
   "source": [
    "df.sample(5)"
   ]
  },
  {
   "cell_type": "code",
   "execution_count": 54,
   "id": "7f022a58",
   "metadata": {},
   "outputs": [],
   "source": [
    "import seaborn as sns\n",
    "plt.figure(figsize=(20,6))\n",
    "sns.heatmap(df.pivot_table(index='day_name',columns='period' , values = 'message' , aggfunc = 'count').fillna(0))\n",
    "plt.yticks(rotation = 'horizontal')\n",
    "plt.show()"
   ]
  },
  {
   "cell_type": "code",
   "execution_count": 55,
   "id": "f5f91b22",
   "metadata": {},
   "outputs": [],
   "source": [
    "df.pivot_table(index='day_name',columns='period' , values = 'message' , aggfunc = 'count').fillna(0)"
   ]
  },
  {
   "cell_type": "code",
   "execution_count": null,
   "id": "5e06e59b",
   "metadata": {},
   "outputs": [],
   "source": []
  },
  {
   "cell_type": "code",
   "execution_count": null,
   "id": "0f786061",
   "metadata": {},
   "outputs": [],
   "source": []
  }
 ],
 "metadata": {
  "kernelspec": {
   "display_name": "Python 3 (ipykernel)",
   "language": "python",
   "name": "python3"
  },
  "language_info": {
   "codemirror_mode": {
    "name": "ipython",
    "version": 3
   },
   "file_extension": ".py",
   "mimetype": "text/x-python",
   "name": "python",
   "nbconvert_exporter": "python",
   "pygments_lexer": "ipython3",
   "version": "3.11.3"
  }
 },
 "nbformat": 4,
 "nbformat_minor": 5
}
